{
 "cells": [
  {
   "cell_type": "markdown",
   "metadata": {},
   "source": [
    "# Simulating a first order system where the input is actually a P controller\n",
    "\n",
    "In this notebook we simulate a first order system of the type\n",
    "\n",
    "\\begin{equation}\n",
    "    \\dot{y}(t) = a y(t) + b u(t)\n",
    "\\end{equation}\n",
    "\n",
    "and check how it evolves when $u(t) = K y(t)$ with $K$ a parameter that may be choosen by the user.\n",
    "\n",
    "The next two cells respectively load the packages that we need to use to run the notebook, and then define the ODE above."
   ]
  },
  {
   "cell_type": "code",
   "execution_count": 1,
   "metadata": {},
   "outputs": [],
   "source": [
    "# load the necessary packages\n",
    "import numpy as np\n",
    "from scipy.integrate import odeint\n",
    "import matplotlib.pyplot as plt"
   ]
  },
  {
   "cell_type": "code",
   "execution_count": 2,
   "metadata": {},
   "outputs": [],
   "source": [
    "# define the function that returns dy/dt\n",
    "def myModel(y, t):\n",
    "    #\n",
    "    # define the physical parameters\n",
    "    a = 0.3\n",
    "    b = 0.1\n",
    "    #\n",
    "    # define the controller\n",
    "    K = -5\n",
    "    u = K * y\n",
    "    #\n",
    "    # actual ODE\n",
    "    dydt = a * y + b * u\n",
    "    #\n",
    "    return dydt"
   ]
  },
  {
   "cell_type": "markdown",
   "metadata": {},
   "source": [
    "Now we define the initial condition, and simulate the system:"
   ]
  },
  {
   "cell_type": "code",
   "execution_count": 3,
   "metadata": {},
   "outputs": [],
   "source": [
    "# define the initial condition\n",
    "y0 = 2\n",
    "\n",
    "# define the time points where the solution is computed\n",
    "n    = 100\n",
    "tmax = 20\n",
    "t    = np.linspace(0, tmax, n)\n",
    "\n",
    "# solve the ODE\n",
    "y = odeint(myModel, y0, t)"
   ]
  },
  {
   "cell_type": "markdown",
   "metadata": {},
   "source": [
    "Finally, plot the evolution:"
   ]
  },
  {
   "cell_type": "code",
   "execution_count": 4,
   "metadata": {},
   "outputs": [
    {
     "data": {
      "image/png": "[encoded data removed]",
      "text/plain": [
       "<Figure size 576x432 with 1 Axes>"
      ]
     },
     "metadata": {
      "needs_background": "light"
     },
     "output_type": "display_data"
    }
   ],
   "source": [
    "# create only one figure\n",
    "fig, ax = plt.subplots(1, 1, figsize=(8,6))\n",
    "\n",
    "# plot the time evolution\n",
    "ax.plot(t, y, label='y(t)', linewidth=1)\n",
    "ax.grid()\n",
    "ax.set_xlim([0, tmax])\n",
    "ax.set_ylim([0, np.ceil( np.max([ y ]) * 1.1 ) ] )\n",
    "ax.legend(loc = 'upper right')\n",
    "ax.set_xlabel('time')\n",
    "ax.set_title('time evolution')\n",
    "#\n",
    "plt.show()"
   ]
  }
 ],
 "metadata": {
  "kernelspec": {
   "display_name": "Python 3 (ipykernel)",
   "language": "python",
   "name": "python3"
  },
  "language_info": {
   "codemirror_mode": {
    "name": "ipython",
    "version": 3
   },
   "file_extension": ".py",
   "mimetype": "text/x-python",
   "name": "python",
   "nbconvert_exporter": "python",
   "pygments_lexer": "ipython3",
   "version": "3.9.12"
  }
 },
 "nbformat": 4,
 "nbformat_minor": 4
}
